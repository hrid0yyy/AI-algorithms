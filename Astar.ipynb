{
 "cells": [
  {
   "cell_type": "code",
   "execution_count": 61,
   "metadata": {},
   "outputs": [],
   "source": [
    "from queue import PriorityQueue"
   ]
  },
  {
   "cell_type": "code",
   "execution_count": 62,
   "metadata": {},
   "outputs": [
    {
     "name": "stdout",
     "output_type": "stream",
     "text": [
      "graph\n",
      "S (1, 2) ---> [('A', 1), ('G', 10)]\n",
      "\t A 1\n",
      "\t G 10\n",
      "A (2, 2) ---> [('G', 1)]\n",
      "\t G 1\n",
      "G (4, 5) ---> []\n",
      "start S goal G\n"
     ]
    }
   ],
   "source": [
    "coords = {}\n",
    "adjlist = {} \n",
    "with open('input.txt','r') as f:\n",
    "    V = int(f.readline()) \n",
    "    for i in range(V):\n",
    "        strs = f.readline().split()\n",
    "        nid, x, y = strs[0], int(strs[1]), int(strs[2])\n",
    "        coords[nid] = (x, y) \n",
    "        adjlist[nid] = [] \n",
    "\n",
    "    E = int(f.readline())\n",
    "    for i in range(E):\n",
    "        strs = f.readline().split()\n",
    "        n1, n2, c = strs[0], strs[1], int(strs[2])\n",
    "        adjlist[n1].append((n2, c)) \n",
    "    startnid = f.readline().rstrip()\n",
    "    goalnid = f.readline().rstrip()\n",
    "\n",
    "print('graph')\n",
    "for nid in adjlist:\n",
    "    print(nid, coords[nid], '--->',  adjlist[nid])\n",
    "    for tup in adjlist[nid]:\n",
    "        print('\\t', tup[0], tup[1])\n",
    "print('start', startnid, 'goal', goalnid)\n"
   ]
  },
  {
   "cell_type": "code",
   "execution_count": 63,
   "metadata": {},
   "outputs": [
    {
     "name": "stdout",
     "output_type": "stream",
     "text": [
      "From  S  to  G  distance is  4.242640687119285\n",
      "From  A  to  G  distance is  3.605551275463989\n",
      "From  G  to  G  distance is  0.0\n"
     ]
    }
   ],
   "source": [
    "def heuristic(node, goalnid=goalnid):\n",
    "    x = (coords[goalnid][1] - coords[node][1]) ** 2\n",
    "    y = (coords[goalnid][0] - coords[node][0]) ** 2\n",
    "    value = (y + x) ** 0.5\n",
    "    return value\n",
    "    \n",
    "\n",
    "for item in coords:\n",
    "    print(\"From \",item[0],\" to \",goalnid,\" distance is \",heuristic(item[0]))\n"
   ]
  },
  {
   "cell_type": "code",
   "execution_count": 64,
   "metadata": {},
   "outputs": [],
   "source": [
    "class State:\n",
    "    def __init__(self, cumulative_cost, node_id, parent, total_estimated_cost):\n",
    "        self.node_id = node_id\n",
    "        self.parent = parent\n",
    "        self.f = total_estimated_cost\n",
    "        self.g = cumulative_cost\n",
    "\n",
    "    def __str__(self):\n",
    "        return f'Node ID: {self.node_id}, Parent Node: {self.parent.node_id}, Total cumulative cost: {self.f}, Total estimated cost: {self.g}'\n",
    "    "
   ]
  },
  {
   "cell_type": "code",
   "execution_count": 65,
   "metadata": {},
   "outputs": [],
   "source": [
    "def solution_path(node):\n",
    "    path = []\n",
    "    while node is not None:\n",
    "        path.insert(0, node.node_id)\n",
    "        node = node.parent\n",
    "    return path"
   ]
  },
  {
   "cell_type": "code",
   "execution_count": 66,
   "metadata": {},
   "outputs": [],
   "source": [
    "queue = PriorityQueue()\n",
    "\n",
    "g = 0\n",
    "f = g + heuristic(startnid,goalnid)\n",
    "\n",
    "node = State(g, startnid, None, f)\n",
    "queue.put((node.f, node.g, node))\n"
   ]
  },
  {
   "cell_type": "code",
   "execution_count": 67,
   "metadata": {},
   "outputs": [
    {
     "name": "stdout",
     "output_type": "stream",
     "text": [
      "Solution Cost: 2.0\n",
      "Solution Path: ['S', 'A', 'G']\n"
     ]
    }
   ],
   "source": [
    "global present_node\n",
    "while not queue.empty():\n",
    "    current_node = queue.get()[2]  \n",
    "    if current_node.node_id == goalnid:\n",
    "        present_node = current_node\n",
    "        print('Solution Cost:',current_node.f)\n",
    "        print('Solution Path:',solution_path(current_node))\n",
    "        break\n",
    "    else:\n",
    "        for item in adjlist[current_node.node_id]:\n",
    "            g = current_node.g + item[1]\n",
    "            f = g + heuristic(item[0],goalnid)\n",
    "            node_id = item[0]\n",
    "            new_node = State(g, node_id, current_node, f)\n",
    "            queue.put((new_node.f, new_node.g, new_node))"
   ]
  },
  {
   "cell_type": "code",
   "execution_count": 68,
   "metadata": {},
   "outputs": [
    {
     "name": "stdout",
     "output_type": "stream",
     "text": [
      "Path Nodes Detail:\n",
      "Node ID: G, Parent Node: A, Total cumulative cost: 2.0, Total estimated cost: 2\n",
      "Node ID: A, Parent Node: S, Total cumulative cost: 4.60555127546399, Total estimated cost: 1\n",
      "Root Node ID: S, Total cumulative cost: 4.242640687119285, Total estimated cost: 0\n"
     ]
    }
   ],
   "source": [
    "print(\"Path Nodes Detail:\")\n",
    "while present_node is not None:\n",
    "    print(present_node)\n",
    "    present_node = present_node.parent\n",
    "    if(present_node.parent is None):\n",
    "        break\n",
    "print(f'Root Node ID: {present_node.node_id}, Total cumulative cost: {present_node.f}, Total estimated cost: {present_node.g}')"
   ]
  }
 ],
 "metadata": {
  "kernelspec": {
   "display_name": "Python 3",
   "language": "python",
   "name": "python3"
  },
  "language_info": {
   "codemirror_mode": {
    "name": "ipython",
    "version": 3
   },
   "file_extension": ".py",
   "mimetype": "text/x-python",
   "name": "python",
   "nbconvert_exporter": "python",
   "pygments_lexer": "ipython3",
   "version": "3.12.1"
  },
  "orig_nbformat": 4
 },
 "nbformat": 4,
 "nbformat_minor": 2
}

{
 "cells": [
  {
   "cell_type": "code",
   "execution_count": 22,
   "metadata": {},
   "outputs": [],
   "source": [
    "import numpy\n",
    "import copy"
   ]
  },
  {
   "cell_type": "code",
   "execution_count": 23,
   "metadata": {},
   "outputs": [
    {
     "data": {
      "text/plain": [
       "{0: (0, 0),\n",
       " 1: (0, 1),\n",
       " 2: (0, 2),\n",
       " 3: (1, 0),\n",
       " 4: (1, 1),\n",
       " 5: (1, 2),\n",
       " 6: (2, 0),\n",
       " 7: (2, 1),\n",
       " 8: (2, 2)}"
      ]
     },
     "execution_count": 23,
     "metadata": {},
     "output_type": "execute_result"
    }
   ],
   "source": [
    "goalstate = [[0,1,2],\n",
    "             [3,4,5],\n",
    "             [6,7,8]]\n",
    "\n",
    "startstate = [[3,1,2],\n",
    "               [6,4,5],\n",
    "               [0,7,8]]\n",
    "\n",
    "coords = {}\n",
    "for i in range(3):\n",
    "    for j in range(3):\n",
    "        coords[goalstate[i][j]] = ((i,j))\n",
    "\n",
    "coords"
   ]
  },
  {
   "cell_type": "code",
   "execution_count": 24,
   "metadata": {},
   "outputs": [
    {
     "data": {
      "text/plain": [
       "2"
      ]
     },
     "execution_count": 24,
     "metadata": {},
     "output_type": "execute_result"
    }
   ],
   "source": [
    "def misplaced_tiles(node):\n",
    "    count = 0\n",
    "    for i in range(3):\n",
    "        for j in range(3):\n",
    "            if(goalstate[i][j] != node[i][j]):\n",
    "                if(node[i][j]==0):\n",
    "                    continue\n",
    "                count = count + 1\n",
    "    return count\n",
    "misplaced_tiles(startstate)\n"
   ]
  },
  {
   "cell_type": "code",
   "execution_count": 25,
   "metadata": {},
   "outputs": [
    {
     "data": {
      "text/plain": [
       "2"
      ]
     },
     "execution_count": 25,
     "metadata": {},
     "output_type": "execute_result"
    }
   ],
   "source": [
    "def manhattan_distance(node):\n",
    "    dist = 0\n",
    "    for i in range(3):\n",
    "        for j in range(3):\n",
    "            if(goalstate[i][j] != node[i][j]):\n",
    "                if(node[i][j]==0):\n",
    "                    continue\n",
    "                dist = dist + abs(i - coords[node[i][j]][0]) + abs(j - coords[node[i][j]][1])\n",
    "    return dist\n",
    "\n",
    "manhattan_distance(startstate)"
   ]
  },
  {
   "cell_type": "code",
   "execution_count": 26,
   "metadata": {},
   "outputs": [],
   "source": [
    "def z_position(node):\n",
    "    arr = numpy.array(node)\n",
    "    x = numpy.where(arr == 0)\n",
    "    return [x[0][0],x[1][0]]"
   ]
  },
  {
   "cell_type": "code",
   "execution_count": 27,
   "metadata": {},
   "outputs": [
    {
     "data": {
      "text/plain": [
       "[[3, 1, 2], [0, 4, 5], [6, 7, 8]]"
      ]
     },
     "execution_count": 27,
     "metadata": {},
     "output_type": "execute_result"
    }
   ],
   "source": [
    "def LowestCostSuccessor(state):\n",
    "\n",
    "    z = z_position(state)\n",
    "    stack = []\n",
    "    \n",
    "    if(z[0]+1<=2):\n",
    "         temp = copy.deepcopy(state)\n",
    "         temp[z[0]+1][z[1]],temp[z[0]][z[1]] = state[z[0]][z[1]],state[z[0]+1][z[1]]\n",
    "         stack.append((misplaced_tiles(temp),temp))\n",
    "    if(z[0]-1>=0):\n",
    "         temp = copy.deepcopy(state)\n",
    "         temp[z[0]-1][z[1]],temp[z[0]][z[1]] = state[z[0]][z[1]],state[z[0]-1][z[1]]\n",
    "         stack.append((misplaced_tiles(temp),temp))\n",
    "    if(z[1]+1<=2):\n",
    "         temp = copy.deepcopy(state)\n",
    "         temp[z[0]][z[1]+1],temp[z[0]][z[1]] = state[z[0]][z[1]],state[z[0]][z[1]+1]\n",
    "         stack.append((misplaced_tiles(temp),temp))\n",
    "    if(z[1]-1>=0):\n",
    "         temp = copy.deepcopy(state)\n",
    "         temp[z[0]][z[1]-1],temp[z[0]][z[1]] = state[z[0]][z[1]],state[z[0]][z[1]-1]\n",
    "         stack.append((misplaced_tiles(temp),temp))\n",
    "     \n",
    "    stack.sort()\n",
    "    stack.reverse()\n",
    "    return stack.pop()[1]\n",
    "\n",
    "LowestCostSuccessor(startstate)"
   ]
  },
  {
   "cell_type": "code",
   "execution_count": 28,
   "metadata": {},
   "outputs": [
    {
     "name": "stdout",
     "output_type": "stream",
     "text": [
      "[[3, 1, 2], [0, 4, 5], [6, 7, 8]] 1\n",
      "[[0, 1, 2], [3, 4, 5], [6, 7, 8]] 0\n",
      "total iteration:  3\n"
     ]
    }
   ],
   "source": [
    "def hill_climbing(state):\n",
    "    current = state\n",
    "    itr = 0\n",
    "    while(True):\n",
    "        itr+=1\n",
    "        if(itr>1000):\n",
    "            break\n",
    "        neighbor = LowestCostSuccessor(current)\n",
    "        if(misplaced_tiles(neighbor)>=misplaced_tiles(current)):\n",
    "            print(\"total iteration: \",itr)\n",
    "            return \n",
    "        print(neighbor,misplaced_tiles(neighbor))\n",
    "        current = neighbor\n",
    "    \n",
    "\n",
    "hill_climbing(startstate)"
   ]
  }
 ],
 "metadata": {
  "kernelspec": {
   "display_name": "Python 3",
   "language": "python",
   "name": "python3"
  },
  "language_info": {
   "codemirror_mode": {
    "name": "ipython",
    "version": 3
   },
   "file_extension": ".py",
   "mimetype": "text/x-python",
   "name": "python",
   "nbconvert_exporter": "python",
   "pygments_lexer": "ipython3",
   "version": "3.12.1"
  },
  "orig_nbformat": 4
 },
 "nbformat": 4,
 "nbformat_minor": 2
}

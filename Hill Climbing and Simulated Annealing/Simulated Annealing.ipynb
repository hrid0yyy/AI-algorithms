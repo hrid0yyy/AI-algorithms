{
 "cells": [
  {
   "cell_type": "code",
   "execution_count": 80,
   "metadata": {},
   "outputs": [],
   "source": [
    "import math\n",
    "import copy\n",
    "import random\n",
    "import numpy"
   ]
  },
  {
   "cell_type": "code",
   "execution_count": 81,
   "metadata": {},
   "outputs": [],
   "source": [
    "goalstate = [[0,1,2],\n",
    "             [3,4,5],\n",
    "             [6,7,8]]\n",
    "\n",
    "startstate = [[3,1,2],\n",
    "               [6,4,5],\n",
    "               [0,7,8]]\n",
    "\n",
    "coords = {}\n",
    "for i in range(3):\n",
    "    for j in range(3):\n",
    "        coords[goalstate[i][j]] = ((i,j))\n"
   ]
  },
  {
   "cell_type": "code",
   "execution_count": 82,
   "metadata": {},
   "outputs": [
    {
     "data": {
      "text/plain": [
       "2"
      ]
     },
     "execution_count": 82,
     "metadata": {},
     "output_type": "execute_result"
    }
   ],
   "source": [
    "def misplaced_tiles(node):\n",
    "    count = 0\n",
    "    for i in range(3):\n",
    "        for j in range(3):\n",
    "            if(goalstate[i][j] != node[i][j]):\n",
    "                 if(node[i][j]==0):\n",
    "                    continue\n",
    "                 else:\n",
    "                    count = count + 1\n",
    "    return count\n",
    "\n",
    "misplaced_tiles(startstate)"
   ]
  },
  {
   "cell_type": "code",
   "execution_count": 83,
   "metadata": {},
   "outputs": [
    {
     "data": {
      "text/plain": [
       "[2, 0]"
      ]
     },
     "execution_count": 83,
     "metadata": {},
     "output_type": "execute_result"
    }
   ],
   "source": [
    "\n",
    "def z_position(node):\n",
    "    arr = numpy.array(node)\n",
    "    x = numpy.where(arr == 0)\n",
    "    return [x[0][0],x[1][0]]\n",
    "\n",
    "z_position(startstate)\n"
   ]
  },
  {
   "cell_type": "code",
   "execution_count": 84,
   "metadata": {},
   "outputs": [
    {
     "data": {
      "text/plain": [
       "2"
      ]
     },
     "execution_count": 84,
     "metadata": {},
     "output_type": "execute_result"
    }
   ],
   "source": [
    "\n",
    "\n",
    "\n",
    "def manhattan_distance(node):\n",
    "    dist = 0\n",
    "    for i in range(3):\n",
    "        for j in range(3):\n",
    "            if(goalstate[i][j] != node[i][j]):\n",
    "                if(node[i][j]==0):\n",
    "                    continue\n",
    "                else:\n",
    "                    dist = dist + abs(i - coords[node[i][j]][0]) + abs(j - coords[node[i][j]][1])\n",
    "    return dist\n",
    "\n",
    "manhattan_distance(startstate)"
   ]
  },
  {
   "cell_type": "code",
   "execution_count": 85,
   "metadata": {},
   "outputs": [
    {
     "data": {
      "text/plain": [
       "996"
      ]
     },
     "execution_count": 85,
     "metadata": {},
     "output_type": "execute_result"
    }
   ],
   "source": [
    "schedule = lambda t: 1000 - t if t < 1000 else 0\n",
    "schedule(4)"
   ]
  },
  {
   "cell_type": "code",
   "execution_count": 86,
   "metadata": {},
   "outputs": [
    {
     "data": {
      "text/plain": [
       "[[3, 1, 2], [0, 4, 5], [6, 7, 8]]"
      ]
     },
     "execution_count": 86,
     "metadata": {},
     "output_type": "execute_result"
    }
   ],
   "source": [
    "def RandomSuccessor(state):\n",
    "    z = z_position(state)\n",
    "    neighbor = copy.deepcopy(state)\n",
    "    while(True):\n",
    "        random_value = random.randint(1,4)\n",
    "        if(random_value == 1 and z[0]+1<=2):\n",
    "              neighbor[z[0]+1][z[1]],neighbor[z[0]][z[1]] = state[z[0]][z[1]],state[z[0]+1][z[1]]\n",
    "              return neighbor\n",
    "        elif(random_value == 2 and z[0]-1>=0):\n",
    "              neighbor[z[0]-1][z[1]],neighbor[z[0]][z[1]] = state[z[0]][z[1]],state[z[0]-1][z[1]]\n",
    "              return neighbor\n",
    "        elif(random_value == 3 and z[1]+1<=2):\n",
    "              neighbor[z[0]][z[1]+1],neighbor[z[0]][z[1]] = state[z[0]][z[1]],state[z[0]][z[1]+1]\n",
    "              return neighbor\n",
    "        elif(random_value == 4 and z[1]-1>=0):\n",
    "              neighbor[z[0]][z[1]-1],neighbor[z[0]][z[1]] = state[z[0]][z[1]],state[z[0]][z[1]-1]\n",
    "              return neighbor\n",
    "\n",
    "\n",
    "RandomSuccessor(startstate)\n"
   ]
  },
  {
   "cell_type": "code",
   "execution_count": 87,
   "metadata": {},
   "outputs": [
    {
     "name": "stdout",
     "output_type": "stream",
     "text": [
      "[[3, 1, 2], [6, 4, 5], [7, 0, 8]] 3\n",
      "[[3, 1, 2], [6, 4, 5], [0, 7, 8]] 2\n",
      "[[3, 1, 2], [0, 4, 5], [6, 7, 8]] 1\n",
      "[[0, 1, 2], [3, 4, 5], [6, 7, 8]] 0\n",
      "total iteration:  10\n"
     ]
    }
   ],
   "source": [
    "def SimulatedAnnealing(startstate):\n",
    "    current = startstate\n",
    "    t = 0\n",
    "    p = 0.999\n",
    "    while(t<1000):\n",
    "        T = schedule(t)\n",
    "        t+=1\n",
    "        if(T == 0 or current == goalstate): \n",
    "            print(\"total iteration: \",t)\n",
    "            return \n",
    "        next = RandomSuccessor(current);\n",
    "        E = misplaced_tiles(current) - misplaced_tiles(next)\n",
    "        if(E > 0 or math.exp(E/T)>=p):\n",
    "            current = next\n",
    "            print(current,misplaced_tiles(current))\n",
    "\n",
    "                \n",
    "SimulatedAnnealing(startstate)\n",
    "     \n",
    "    "
   ]
  }
 ],
 "metadata": {
  "kernelspec": {
   "display_name": "Python 3",
   "language": "python",
   "name": "python3"
  },
  "language_info": {
   "codemirror_mode": {
    "name": "ipython",
    "version": 3
   },
   "file_extension": ".py",
   "mimetype": "text/x-python",
   "name": "python",
   "nbconvert_exporter": "python",
   "pygments_lexer": "ipython3",
   "version": "3.12.1"
  },
  "orig_nbformat": 4
 },
 "nbformat": 4,
 "nbformat_minor": 2
}
